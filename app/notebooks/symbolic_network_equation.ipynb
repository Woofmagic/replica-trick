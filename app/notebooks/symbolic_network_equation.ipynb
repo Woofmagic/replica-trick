{
 "cells": [
  {
   "cell_type": "markdown",
   "metadata": {},
   "source": [
    "Import libraries."
   ]
  },
  {
   "cell_type": "code",
   "execution_count": 2,
   "metadata": {},
   "outputs": [],
   "source": [
    "import sympy as sp\n",
    "import numpy as np"
   ]
  },
  {
   "cell_type": "markdown",
   "metadata": {},
   "source": [
    "Try to do some basic stuff:"
   ]
  },
  {
   "cell_type": "code",
   "execution_count": 8,
   "metadata": {},
   "outputs": [],
   "source": [
    "variable_x = sp.Symbol('x')"
   ]
  },
  {
   "cell_type": "code",
   "execution_count": 14,
   "metadata": {},
   "outputs": [
    {
     "data": {
      "text/latex": [
       "$\\displaystyle -1 + \\frac{\\left(x - \\pi\\right)^{2}}{2} - \\frac{\\left(x - \\pi\\right)^{4}}{24} + O\\left(\\left(x - \\pi\\right)^{6}; x\\rightarrow \\pi\\right)$"
      ],
      "text/plain": [
       "-1 + (x - pi)**2/2 - (x - pi)**4/24 + O((x - pi)**6, (x, pi))"
      ]
     },
     "execution_count": 14,
     "metadata": {},
     "output_type": "execute_result"
    }
   ],
   "source": [
    "sp.series(\n",
    "    expr = sp.cos(variable_x), \n",
    "    x = variable_x,\n",
    "    x0 = sp.pi)"
   ]
  },
  {
   "cell_type": "code",
   "execution_count": 22,
   "metadata": {},
   "outputs": [],
   "source": [
    "input_vector_size = 3\n",
    "bias_vector_size = 3\n",
    "matrix_size = 3\n",
    "\n",
    "input_vector = sp.Matrix(input_vector_size, 1, lambda i, _: sp.symbols(f\"x_{i}\"))\n",
    "bias_vector = sp.Matrix(bias_vector_size, 1, lambda i, _: sp.symbols(f\"b_{i}\"))\n",
    "weight_matrix = sp.Matrix(matrix_size, matrix_size, lambda i, j: sp.symbols(f\"w_{i}{j}\"))"
   ]
  },
  {
   "cell_type": "code",
   "execution_count": 24,
   "metadata": {},
   "outputs": [
    {
     "data": {
      "text/latex": [
       "$\\displaystyle \\left[\\begin{matrix}b_{0} + w_{00} x_{0} + w_{01} x_{1} + w_{02} x_{2}\\\\b_{1} + w_{10} x_{0} + w_{11} x_{1} + w_{12} x_{2}\\\\b_{2} + w_{20} x_{0} + w_{21} x_{1} + w_{22} x_{2}\\end{matrix}\\right]$"
      ],
      "text/plain": [
       "Matrix([\n",
       "[b_0 + w_00*x_0 + w_01*x_1 + w_02*x_2],\n",
       "[b_1 + w_10*x_0 + w_11*x_1 + w_12*x_2],\n",
       "[b_2 + w_20*x_0 + w_21*x_1 + w_22*x_2]])"
      ]
     },
     "execution_count": 24,
     "metadata": {},
     "output_type": "execute_result"
    }
   ],
   "source": [
    "weight_matrix * input_vector + bias_vector"
   ]
  },
  {
   "cell_type": "code",
   "execution_count": 25,
   "metadata": {},
   "outputs": [
    {
     "data": {
      "text/latex": [
       "$\\displaystyle \\cos{\\left(\\left[\\begin{matrix}b_{0} + w_{00} x_{0} + w_{01} x_{1} + w_{02} x_{2}\\\\b_{1} + w_{10} x_{0} + w_{11} x_{1} + w_{12} x_{2}\\\\b_{2} + w_{20} x_{0} + w_{21} x_{1} + w_{22} x_{2}\\end{matrix}\\right] \\right)}$"
      ],
      "text/plain": [
       "cos(Matrix([\n",
       "[b_0 + w_00*x_0 + w_01*x_1 + w_02*x_2],\n",
       "[b_1 + w_10*x_0 + w_11*x_1 + w_12*x_2],\n",
       "[b_2 + w_20*x_0 + w_21*x_1 + w_22*x_2]]))"
      ]
     },
     "execution_count": 25,
     "metadata": {},
     "output_type": "execute_result"
    }
   ],
   "source": [
    "sp.cos(weight_matrix * input_vector + bias_vector)"
   ]
  },
  {
   "cell_type": "code",
   "execution_count": null,
   "metadata": {},
   "outputs": [],
   "source": []
  }
 ],
 "metadata": {
  "kernelspec": {
   "display_name": "Python 3",
   "language": "python",
   "name": "python3"
  },
  "language_info": {
   "codemirror_mode": {
    "name": "ipython",
    "version": 3
   },
   "file_extension": ".py",
   "mimetype": "text/x-python",
   "name": "python",
   "nbconvert_exporter": "python",
   "pygments_lexer": "ipython3",
   "version": "3.10.12"
  }
 },
 "nbformat": 4,
 "nbformat_minor": 2
}
